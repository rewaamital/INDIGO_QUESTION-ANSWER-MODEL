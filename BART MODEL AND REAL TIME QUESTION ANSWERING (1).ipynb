{
 "cells": [
  {
   "cell_type": "code",
   "execution_count": 1,
   "id": "2409dc9c-27c6-4100-a30e-76a7eef4acfe",
   "metadata": {},
   "outputs": [
    {
     "name": "stdout",
     "output_type": "stream",
     "text": [
      "Requirement already satisfied: tokenizers in /Users/ihkardesigns/anaconda3/lib/python3.11/site-packages (0.19.1)\n",
      "Requirement already satisfied: datasets in /Users/ihkardesigns/anaconda3/lib/python3.11/site-packages (2.20.0)\n",
      "Requirement already satisfied: evaluate in /Users/ihkardesigns/anaconda3/lib/python3.11/site-packages (0.4.2)\n",
      "Requirement already satisfied: rouge_score in /Users/ihkardesigns/anaconda3/lib/python3.11/site-packages (0.1.2)\n",
      "Requirement already satisfied: sentencepiece in /Users/ihkardesigns/anaconda3/lib/python3.11/site-packages (0.2.0)\n",
      "Requirement already satisfied: huggingface_hub in /Users/ihkardesigns/anaconda3/lib/python3.11/site-packages (0.24.3)\n",
      "Requirement already satisfied: transformers[torch] in /Users/ihkardesigns/anaconda3/lib/python3.11/site-packages (4.43.3)\n",
      "Requirement already satisfied: filelock in /Users/ihkardesigns/anaconda3/lib/python3.11/site-packages (from transformers[torch]) (3.13.1)\n",
      "Requirement already satisfied: numpy>=1.17 in /Users/ihkardesigns/anaconda3/lib/python3.11/site-packages (from transformers[torch]) (1.26.4)\n",
      "Requirement already satisfied: packaging>=20.0 in /Users/ihkardesigns/anaconda3/lib/python3.11/site-packages (from transformers[torch]) (23.2)\n",
      "Requirement already satisfied: pyyaml>=5.1 in /Users/ihkardesigns/anaconda3/lib/python3.11/site-packages (from transformers[torch]) (6.0.1)\n",
      "Requirement already satisfied: regex!=2019.12.17 in /Users/ihkardesigns/anaconda3/lib/python3.11/site-packages (from transformers[torch]) (2023.10.3)\n",
      "Requirement already satisfied: requests in /Users/ihkardesigns/anaconda3/lib/python3.11/site-packages (from transformers[torch]) (2.32.3)\n",
      "Requirement already satisfied: safetensors>=0.4.1 in /Users/ihkardesigns/anaconda3/lib/python3.11/site-packages (from transformers[torch]) (0.4.3)\n",
      "Requirement already satisfied: tqdm>=4.27 in /Users/ihkardesigns/anaconda3/lib/python3.11/site-packages (from transformers[torch]) (4.66.4)\n",
      "Requirement already satisfied: accelerate>=0.21.0 in /Users/ihkardesigns/anaconda3/lib/python3.11/site-packages (from transformers[torch]) (0.33.0)\n",
      "Requirement already satisfied: torch in /Users/ihkardesigns/anaconda3/lib/python3.11/site-packages (from transformers[torch]) (2.4.0)\n",
      "Requirement already satisfied: pyarrow>=15.0.0 in /Users/ihkardesigns/anaconda3/lib/python3.11/site-packages (from datasets) (16.1.0)\n",
      "Requirement already satisfied: pyarrow-hotfix in /Users/ihkardesigns/anaconda3/lib/python3.11/site-packages (from datasets) (0.6)\n",
      "Requirement already satisfied: dill<0.3.9,>=0.3.0 in /Users/ihkardesigns/anaconda3/lib/python3.11/site-packages (from datasets) (0.3.8)\n",
      "Requirement already satisfied: pandas in /Users/ihkardesigns/anaconda3/lib/python3.11/site-packages (from datasets) (2.2.2)\n",
      "Requirement already satisfied: xxhash in /Users/ihkardesigns/anaconda3/lib/python3.11/site-packages (from datasets) (3.4.1)\n",
      "Requirement already satisfied: multiprocess in /Users/ihkardesigns/anaconda3/lib/python3.11/site-packages (from datasets) (0.70.16)\n",
      "Requirement already satisfied: fsspec<=2024.5.0,>=2023.1.0 in /Users/ihkardesigns/anaconda3/lib/python3.11/site-packages (from fsspec[http]<=2024.5.0,>=2023.1.0->datasets) (2024.3.1)\n",
      "Requirement already satisfied: aiohttp in /Users/ihkardesigns/anaconda3/lib/python3.11/site-packages (from datasets) (3.9.5)\n",
      "Requirement already satisfied: absl-py in /Users/ihkardesigns/anaconda3/lib/python3.11/site-packages (from rouge_score) (2.1.0)\n",
      "Requirement already satisfied: nltk in /Users/ihkardesigns/anaconda3/lib/python3.11/site-packages (from rouge_score) (3.8.1)\n",
      "Requirement already satisfied: six>=1.14.0 in /Users/ihkardesigns/anaconda3/lib/python3.11/site-packages (from rouge_score) (1.16.0)\n",
      "Requirement already satisfied: typing-extensions>=3.7.4.3 in /Users/ihkardesigns/anaconda3/lib/python3.11/site-packages (from huggingface_hub) (4.11.0)\n",
      "Requirement already satisfied: psutil in /Users/ihkardesigns/anaconda3/lib/python3.11/site-packages (from accelerate>=0.21.0->transformers[torch]) (5.9.0)\n",
      "Requirement already satisfied: aiosignal>=1.1.2 in /Users/ihkardesigns/anaconda3/lib/python3.11/site-packages (from aiohttp->datasets) (1.2.0)\n",
      "Requirement already satisfied: attrs>=17.3.0 in /Users/ihkardesigns/anaconda3/lib/python3.11/site-packages (from aiohttp->datasets) (23.1.0)\n",
      "Requirement already satisfied: frozenlist>=1.1.1 in /Users/ihkardesigns/anaconda3/lib/python3.11/site-packages (from aiohttp->datasets) (1.4.0)\n",
      "Requirement already satisfied: multidict<7.0,>=4.5 in /Users/ihkardesigns/anaconda3/lib/python3.11/site-packages (from aiohttp->datasets) (6.0.4)\n",
      "Requirement already satisfied: yarl<2.0,>=1.0 in /Users/ihkardesigns/anaconda3/lib/python3.11/site-packages (from aiohttp->datasets) (1.9.3)\n",
      "Requirement already satisfied: charset-normalizer<4,>=2 in /Users/ihkardesigns/anaconda3/lib/python3.11/site-packages (from requests->transformers[torch]) (3.3.2)\n",
      "Requirement already satisfied: idna<4,>=2.5 in /Users/ihkardesigns/anaconda3/lib/python3.11/site-packages (from requests->transformers[torch]) (3.7)\n",
      "Requirement already satisfied: urllib3<3,>=1.21.1 in /Users/ihkardesigns/anaconda3/lib/python3.11/site-packages (from requests->transformers[torch]) (2.2.2)\n",
      "Requirement already satisfied: certifi>=2017.4.17 in /Users/ihkardesigns/anaconda3/lib/python3.11/site-packages (from requests->transformers[torch]) (2024.7.4)\n",
      "Requirement already satisfied: sympy in /Users/ihkardesigns/anaconda3/lib/python3.11/site-packages (from torch->transformers[torch]) (1.12)\n",
      "Requirement already satisfied: networkx in /Users/ihkardesigns/anaconda3/lib/python3.11/site-packages (from torch->transformers[torch]) (3.3)\n",
      "Requirement already satisfied: jinja2 in /Users/ihkardesigns/anaconda3/lib/python3.11/site-packages (from torch->transformers[torch]) (3.1.4)\n",
      "Requirement already satisfied: click in /Users/ihkardesigns/anaconda3/lib/python3.11/site-packages (from nltk->rouge_score) (8.1.7)\n",
      "Requirement already satisfied: joblib in /Users/ihkardesigns/anaconda3/lib/python3.11/site-packages (from nltk->rouge_score) (1.4.2)\n",
      "Requirement already satisfied: python-dateutil>=2.8.2 in /Users/ihkardesigns/anaconda3/lib/python3.11/site-packages (from pandas->datasets) (2.9.0.post0)\n",
      "Requirement already satisfied: pytz>=2020.1 in /Users/ihkardesigns/anaconda3/lib/python3.11/site-packages (from pandas->datasets) (2024.1)\n",
      "Requirement already satisfied: tzdata>=2022.7 in /Users/ihkardesigns/anaconda3/lib/python3.11/site-packages (from pandas->datasets) (2023.3)\n",
      "Requirement already satisfied: MarkupSafe>=2.0 in /Users/ihkardesigns/anaconda3/lib/python3.11/site-packages (from jinja2->torch->transformers[torch]) (2.1.3)\n",
      "Requirement already satisfied: mpmath>=0.19 in /Users/ihkardesigns/anaconda3/lib/python3.11/site-packages (from sympy->torch->transformers[torch]) (1.3.0)\n"
     ]
    }
   ],
   "source": [
    "!pip install \"transformers[torch]\" tokenizers datasets evaluate rouge_score sentencepiece huggingface_hub --upgrade"
   ]
  },
  {
   "cell_type": "code",
   "execution_count": 2,
   "id": "756a1ac9-a440-43d9-be4a-ac37802ef1a8",
   "metadata": {},
   "outputs": [],
   "source": [
    "import nltk\n",
    "from datasets import load_dataset\n",
    "import evaluate\n",
    "import numpy as np\n",
    "from transformers import BartTokenizer, BartForConditionalGeneration, Seq2SeqTrainingArguments, Seq2SeqTrainer"
   ]
  },
  {
   "cell_type": "code",
   "execution_count": 3,
   "id": "44007daa-6a27-4a0b-8ec3-ed12579f59bb",
   "metadata": {},
   "outputs": [],
   "source": [
    "# Load and split the dataset\n",
    "dataset = load_dataset(\"toughdata/quora-question-answer-dataset\")\n",
    "dataset = dataset[\"train\"].train_test_split(test_size=0.2)\n"
   ]
  },
  {
   "cell_type": "code",
   "execution_count": 4,
   "id": "c5a2a2e6-6015-4af7-9c63-fb4d08a3e032",
   "metadata": {},
   "outputs": [
    {
     "data": {
      "text/plain": [
       "DatasetDict({\n",
       "    train: Dataset({\n",
       "        features: ['question', 'answer'],\n",
       "        num_rows: 45121\n",
       "    })\n",
       "    test: Dataset({\n",
       "        features: ['question', 'answer'],\n",
       "        num_rows: 11281\n",
       "    })\n",
       "})"
      ]
     },
     "execution_count": 4,
     "metadata": {},
     "output_type": "execute_result"
    }
   ],
   "source": [
    "dataset\n"
   ]
  },
  {
   "cell_type": "code",
   "execution_count": 5,
   "id": "c1407555-9337-4bb1-ad0e-87309050697d",
   "metadata": {},
   "outputs": [
    {
     "data": {
      "application/vnd.jupyter.widget-view+json": {
       "model_id": "a260ea12c1144dbdb103909601faeaf8",
       "version_major": 2,
       "version_minor": 0
      },
      "text/plain": [
       "model.safetensors:  38%|###7      | 210M/558M [00:00<?, ?B/s]"
      ]
     },
     "metadata": {},
     "output_type": "display_data"
    }
   ],
   "source": [
    "# Load the tokenizer and model\n",
    "tokenizer = BartTokenizer.from_pretrained(\"facebook/bart-base\")\n",
    "model = BartForConditionalGeneration.from_pretrained(\"facebook/bart-base\")"
   ]
  },
  {
   "cell_type": "code",
   "execution_count": 6,
   "id": "73e810f2-46a5-4d59-9e7d-7dab6a2166e8",
   "metadata": {},
   "outputs": [
    {
     "data": {
      "application/vnd.jupyter.widget-view+json": {
       "model_id": "8db2c83e7c9343f5b4c660993f83caf2",
       "version_major": 2,
       "version_minor": 0
      },
      "text/plain": [
       "Map:   0%|          | 0/45121 [00:00<?, ? examples/s]"
      ]
     },
     "metadata": {},
     "output_type": "display_data"
    },
    {
     "data": {
      "application/vnd.jupyter.widget-view+json": {
       "model_id": "1a1fd210e4704b13bcab868f51382d65",
       "version_major": 2,
       "version_minor": 0
      },
      "text/plain": [
       "Map:   0%|          | 0/11281 [00:00<?, ? examples/s]"
      ]
     },
     "metadata": {},
     "output_type": "display_data"
    }
   ],
   "source": [
    "# Define our preprocessing function\n",
    "def preprocess_function(examples):\n",
    "    \"\"\"Tokenize the questions and answers\"\"\"\n",
    "    questions = examples[\"question\"]\n",
    "    answers = examples[\"answer\"]\n",
    "    inputs = tokenizer(questions, truncation=True, padding=\"max_length\", max_length=128)\n",
    "    outputs = tokenizer(answers, truncation=True, padding=\"max_length\", max_length=128)\n",
    "    \n",
    "    # Setting the labels for the model\n",
    "    inputs[\"labels\"] = outputs[\"input_ids\"]\n",
    "    return inputs\n",
    "\n",
    "# Map the preprocessing function across our dataset\n",
    "tokenized_dataset = dataset.map(preprocess_function, batched=True)\n"
   ]
  },
  {
   "cell_type": "code",
   "execution_count": 7,
   "id": "abf002c9-0c65-4c29-b58a-cad0ca73c905",
   "metadata": {},
   "outputs": [
    {
     "data": {
      "application/vnd.jupyter.widget-view+json": {
       "model_id": "72b37a5b4985499d980bcfb534de353d",
       "version_major": 2,
       "version_minor": 0
      },
      "text/plain": [
       "Downloading builder script:   0%|          | 0.00/6.27k [00:00<?, ?B/s]"
      ]
     },
     "metadata": {},
     "output_type": "display_data"
    }
   ],
   "source": [
    "# Set up evaluation metric\n",
    "nltk.download(\"punkt\", quiet=True)\n",
    "metric = evaluate.load(\"rouge\")\n",
    "\n",
    "def compute_metrics(eval_preds):\n",
    "    logits, labels = eval_preds\n",
    "    predictions = np.argmax(logits, axis=-1)\n",
    "    \n",
    "    # decode preds and labels\n",
    "    decoded_preds = tokenizer.batch_decode(predictions, skip_special_tokens=True)\n",
    "    decoded_labels = tokenizer.batch_decode(labels, skip_special_tokens=True)\n",
    "\n",
    "    # rougeLSum expects newline after each sentence\n",
    "    decoded_preds = [\"\\n\".join(nltk.sent_tokenize(pred.strip())) for pred in decoded_preds]\n",
    "    decoded_labels = [\"\\n\".join(nltk.sent_tokenize(label.strip())) for label in decoded_labels]\n",
    "\n",
    "    result = metric.compute(predictions=decoded_preds, references=decoded_labels, use_stemmer=True)\n",
    "    return result"
   ]
  },
  {
   "cell_type": "code",
   "execution_count": 9,
   "id": "0d4bc15b-b503-4b95-a325-a525e3002f9f",
   "metadata": {},
   "outputs": [
    {
     "data": {
      "text/html": [
       "\n",
       "    <div>\n",
       "      \n",
       "      <progress value='5641' max='5641' style='width:300px; height:20px; vertical-align: middle;'></progress>\n",
       "      [5641/5641 1:46:01, Epoch 1/1]\n",
       "    </div>\n",
       "    <table border=\"1\" class=\"dataframe\">\n",
       "  <thead>\n",
       " <tr style=\"text-align: left;\">\n",
       "      <th>Epoch</th>\n",
       "      <th>Training Loss</th>\n",
       "      <th>Validation Loss</th>\n",
       "      <th>Rouge1</th>\n",
       "      <th>Rouge2</th>\n",
       "      <th>Rougel</th>\n",
       "      <th>Rougelsum</th>\n",
       "    </tr>\n",
       "  </thead>\n",
       "  <tbody>\n",
       "    <tr>\n",
       "      <td>1</td>\n",
       "      <td>2.396200</td>\n",
       "      <td>2.179584</td>\n",
       "      <td>0.012939</td>\n",
       "      <td>0.000000</td>\n",
       "      <td>0.012951</td>\n",
       "      <td>0.012929</td>\n",
       "    </tr>\n",
       "  </tbody>\n",
       "</table><p>"
      ],
      "text/plain": [
       "<IPython.core.display.HTML object>"
      ]
     },
     "metadata": {},
     "output_type": "display_data"
    },
    {
     "name": "stderr",
     "output_type": "stream",
     "text": [
      "Some non-default generation parameters are set in the model config. These should go into a GenerationConfig file (https://huggingface.co/docs/transformers/generation_strategies#save-a-custom-decoding-strategy-with-your-model) instead. This warning will be raised to an exception in v4.41.\n",
      "Non-default generation parameters: {'early_stopping': True, 'num_beams': 4, 'no_repeat_ngram_size': 3, 'forced_bos_token_id': 0, 'forced_eos_token_id': 2}\n",
      "Some non-default generation parameters are set in the model config. These should go into a GenerationConfig file (https://huggingface.co/docs/transformers/generation_strategies#save-a-custom-decoding-strategy-with-your-model) instead. This warning will be raised to an exception in v4.41.\n",
      "Non-default generation parameters: {'early_stopping': True, 'num_beams': 4, 'no_repeat_ngram_size': 3, 'forced_bos_token_id': 0, 'forced_eos_token_id': 2}\n",
      "Some non-default generation parameters are set in the model config. These should go into a GenerationConfig file (https://huggingface.co/docs/transformers/generation_strategies#save-a-custom-decoding-strategy-with-your-model) instead. This warning will be raised to an exception in v4.41.\n",
      "Non-default generation parameters: {'early_stopping': True, 'num_beams': 4, 'no_repeat_ngram_size': 3, 'forced_bos_token_id': 0, 'forced_eos_token_id': 2}\n",
      "Some non-default generation parameters are set in the model config. These should go into a GenerationConfig file (https://huggingface.co/docs/transformers/generation_strategies#save-a-custom-decoding-strategy-with-your-model) instead. This warning will be raised to an exception in v4.41.\n",
      "Non-default generation parameters: {'early_stopping': True, 'num_beams': 4, 'no_repeat_ngram_size': 3, 'forced_bos_token_id': 0, 'forced_eos_token_id': 2}\n",
      "Some non-default generation parameters are set in the model config. These should go into a GenerationConfig file (https://huggingface.co/docs/transformers/generation_strategies#save-a-custom-decoding-strategy-with-your-model) instead. This warning will be raised to an exception in v4.41.\n",
      "Non-default generation parameters: {'early_stopping': True, 'num_beams': 4, 'no_repeat_ngram_size': 3, 'forced_bos_token_id': 0, 'forced_eos_token_id': 2}\n",
      "Some non-default generation parameters are set in the model config. These should go into a GenerationConfig file (https://huggingface.co/docs/transformers/generation_strategies#save-a-custom-decoding-strategy-with-your-model) instead. This warning will be raised to an exception in v4.41.\n",
      "Non-default generation parameters: {'early_stopping': True, 'num_beams': 4, 'no_repeat_ngram_size': 3, 'forced_bos_token_id': 0, 'forced_eos_token_id': 2}\n",
      "Some non-default generation parameters are set in the model config. These should go into a GenerationConfig file (https://huggingface.co/docs/transformers/generation_strategies#save-a-custom-decoding-strategy-with-your-model) instead. This warning will be raised to an exception in v4.41.\n",
      "Non-default generation parameters: {'early_stopping': True, 'num_beams': 4, 'no_repeat_ngram_size': 3, 'forced_bos_token_id': 0, 'forced_eos_token_id': 2}\n",
      "Some non-default generation parameters are set in the model config. These should go into a GenerationConfig file (https://huggingface.co/docs/transformers/generation_strategies#save-a-custom-decoding-strategy-with-your-model) instead. This warning will be raised to an exception in v4.41.\n",
      "Non-default generation parameters: {'early_stopping': True, 'num_beams': 4, 'no_repeat_ngram_size': 3, 'forced_bos_token_id': 0, 'forced_eos_token_id': 2}\n",
      "Some non-default generation parameters are set in the model config. These should go into a GenerationConfig file (https://huggingface.co/docs/transformers/generation_strategies#save-a-custom-decoding-strategy-with-your-model) instead. This warning will be raised to an exception in v4.41.\n",
      "Non-default generation parameters: {'early_stopping': True, 'num_beams': 4, 'no_repeat_ngram_size': 3, 'forced_bos_token_id': 0, 'forced_eos_token_id': 2}\n",
      "Some non-default generation parameters are set in the model config. These should go into a GenerationConfig file (https://huggingface.co/docs/transformers/generation_strategies#save-a-custom-decoding-strategy-with-your-model) instead. This warning will be raised to an exception in v4.41.\n",
      "Non-default generation parameters: {'early_stopping': True, 'num_beams': 4, 'no_repeat_ngram_size': 3, 'forced_bos_token_id': 0, 'forced_eos_token_id': 2}\n",
      "Some non-default generation parameters are set in the model config. These should go into a GenerationConfig file (https://huggingface.co/docs/transformers/generation_strategies#save-a-custom-decoding-strategy-with-your-model) instead. This warning will be raised to an exception in v4.41.\n",
      "Non-default generation parameters: {'early_stopping': True, 'num_beams': 4, 'no_repeat_ngram_size': 3, 'forced_bos_token_id': 0, 'forced_eos_token_id': 2}\n",
      "Some non-default generation parameters are set in the model config. These should go into a GenerationConfig file (https://huggingface.co/docs/transformers/generation_strategies#save-a-custom-decoding-strategy-with-your-model) instead. This warning will be raised to an exception in v4.41.\n",
      "Non-default generation parameters: {'early_stopping': True, 'num_beams': 4, 'no_repeat_ngram_size': 3, 'forced_bos_token_id': 0, 'forced_eos_token_id': 2}\n",
      "/Users/ihkardesigns/anaconda3/lib/python3.11/site-packages/transformers/generation/utils.py:1259: UserWarning: Using the model-agnostic default `max_length` (=20) to control the generation length. We recommend setting `max_new_tokens` to control the maximum length of the generation.\n",
      "  warnings.warn(\n"
     ]
    },
    {
     "data": {
      "text/plain": [
       "TrainOutput(global_step=5641, training_loss=2.4326020342051358, metrics={'train_runtime': 6361.6333, 'train_samples_per_second': 7.093, 'train_steps_per_second': 0.887, 'total_flos': 3438989841530880.0, 'train_loss': 2.4326020342051358, 'epoch': 1.0})"
      ]
     },
     "execution_count": 9,
     "metadata": {},
     "output_type": "execute_result"
    }
   ],
   "source": [
    "# Set up training arguments\n",
    "training_args = Seq2SeqTrainingArguments(\n",
    "    output_dir=\"./results\",\n",
    "    evaluation_strategy=\"epoch\",\n",
    "    learning_rate=3e-5,\n",
    "    per_device_train_batch_size=8,\n",
    "    per_device_eval_batch_size=4,\n",
    "    weight_decay=0.01,\n",
    "    save_total_limit=3,\n",
    "    num_train_epochs=1,\n",
    "    predict_with_generate=True,\n",
    "    push_to_hub=False\n",
    ")\n",
    "\n",
    "# Set up trainer\n",
    "trainer = Seq2SeqTrainer(\n",
    "    model=model,\n",
    "    args=training_args,\n",
    "    train_dataset=tokenized_dataset[\"train\"],\n",
    "    eval_dataset=tokenized_dataset[\"test\"],\n",
    "    tokenizer=tokenizer,\n",
    "    compute_metrics=compute_metrics\n",
    ")\n",
    "\n",
    "# Train the model\n",
    "trainer.train()"
   ]
  },
  {
   "cell_type": "code",
   "execution_count": 10,
   "id": "707358f8-a5cd-4a24-9535-24649c3e8b12",
   "metadata": {},
   "outputs": [],
   "source": [
    "from transformers import T5Tokenizer, DataCollatorForSeq2Seq\n",
    "from transformers import T5ForConditionalGeneration, Seq2SeqTrainingArguments, Seq2SeqTrainer"
   ]
  },
  {
   "cell_type": "code",
   "execution_count": 11,
   "id": "b6887a02-1592-4c06-b683-2147d474fc2a",
   "metadata": {},
   "outputs": [
    {
     "data": {
      "application/vnd.jupyter.widget-view+json": {
       "model_id": "3559d3e4d72d4c0783b41654837b0d66",
       "version_major": 2,
       "version_minor": 0
      },
      "text/plain": [
       "tokenizer_config.json:   0%|          | 0.00/2.54k [00:00<?, ?B/s]"
      ]
     },
     "metadata": {},
     "output_type": "display_data"
    },
    {
     "data": {
      "application/vnd.jupyter.widget-view+json": {
       "model_id": "2034d5a42f40469ba3031e0a41a528da",
       "version_major": 2,
       "version_minor": 0
      },
      "text/plain": [
       "spiece.model:   0%|          | 0.00/792k [00:00<?, ?B/s]"
      ]
     },
     "metadata": {},
     "output_type": "display_data"
    },
    {
     "data": {
      "application/vnd.jupyter.widget-view+json": {
       "model_id": "7d6f37b7277c46999a24da4dd444177f",
       "version_major": 2,
       "version_minor": 0
      },
      "text/plain": [
       "special_tokens_map.json:   0%|          | 0.00/2.20k [00:00<?, ?B/s]"
      ]
     },
     "metadata": {},
     "output_type": "display_data"
    },
    {
     "data": {
      "application/vnd.jupyter.widget-view+json": {
       "model_id": "c1f206205f6e48aa8f0d62aebb38d004",
       "version_major": 2,
       "version_minor": 0
      },
      "text/plain": [
       "tokenizer.json:   0%|          | 0.00/2.42M [00:00<?, ?B/s]"
      ]
     },
     "metadata": {},
     "output_type": "display_data"
    },
    {
     "name": "stderr",
     "output_type": "stream",
     "text": [
      "You are using the default legacy behaviour of the <class 'transformers.models.t5.tokenization_t5.T5Tokenizer'>. This is expected, and simply means that the `legacy` (previous) behavior will be used so nothing changes for you. If you want to use the new behaviour, set `legacy=False`. This should only be set if you understand what it means, and thoroughly read the reason why this was added as explained in https://github.com/huggingface/transformers/pull/24565\n"
     ]
    },
    {
     "data": {
      "application/vnd.jupyter.widget-view+json": {
       "model_id": "7432fff5fc7f43ebad34d3421cb85297",
       "version_major": 2,
       "version_minor": 0
      },
      "text/plain": [
       "config.json:   0%|          | 0.00/1.40k [00:00<?, ?B/s]"
      ]
     },
     "metadata": {},
     "output_type": "display_data"
    },
    {
     "data": {
      "application/vnd.jupyter.widget-view+json": {
       "model_id": "75658ac9de4b47ff8b6ce83521a7f7c2",
       "version_major": 2,
       "version_minor": 0
      },
      "text/plain": [
       "model.safetensors:   0%|          | 0.00/990M [00:00<?, ?B/s]"
      ]
     },
     "metadata": {},
     "output_type": "display_data"
    },
    {
     "data": {
      "application/vnd.jupyter.widget-view+json": {
       "model_id": "cd148128896f4f309a60d8443d510aa3",
       "version_major": 2,
       "version_minor": 0
      },
      "text/plain": [
       "generation_config.json:   0%|          | 0.00/147 [00:00<?, ?B/s]"
      ]
     },
     "metadata": {},
     "output_type": "display_data"
    }
   ],
   "source": [
    "# T5 Setup\n",
    "t5_tokenizer = T5Tokenizer.from_pretrained(\"google/flan-t5-base\")\n",
    "t5_model = T5ForConditionalGeneration.from_pretrained(\"google/flan-t5-base\")\n",
    "t5_data_collator = DataCollatorForSeq2Seq(tokenizer=t5_tokenizer, model=t5_model)\n"
   ]
  },
  {
   "cell_type": "code",
   "execution_count": 12,
   "id": "f7161266-1cee-4026-ad3f-b6dbaaf3066e",
   "metadata": {},
   "outputs": [
    {
     "data": {
      "application/vnd.jupyter.widget-view+json": {
       "model_id": "989aa98ba4004305a61f4c2eecac2e3c",
       "version_major": 2,
       "version_minor": 0
      },
      "text/plain": [
       "Map:   0%|          | 0/45121 [00:00<?, ? examples/s]"
      ]
     },
     "metadata": {},
     "output_type": "display_data"
    },
    {
     "data": {
      "application/vnd.jupyter.widget-view+json": {
       "model_id": "63b68fa87c024742b477f6fae02ed301",
       "version_major": 2,
       "version_minor": 0
      },
      "text/plain": [
       "Map:   0%|          | 0/11281 [00:00<?, ? examples/s]"
      ]
     },
     "metadata": {},
     "output_type": "display_data"
    }
   ],
   "source": [
    "# Prefix for T5 task\n",
    "prefix = \"answer the question: \"\n",
    "\n",
    "# Define preprocessing function for T5\n",
    "def preprocess_function_t5(examples):\n",
    "    inputs = [prefix + doc for doc in examples[\"question\"]]\n",
    "    model_inputs = t5_tokenizer(inputs, max_length=128, truncation=True, padding=\"max_length\")\n",
    "    labels = t5_tokenizer(text_target=examples[\"answer\"], max_length=512, truncation=True, padding=\"max_length\")\n",
    "    model_inputs[\"labels\"] = labels[\"input_ids\"]\n",
    "    return model_inputs\n",
    "\n",
    "# Tokenize dataset for T5\n",
    "tokenized_dataset_t5 = dataset.map(preprocess_function_t5, batched=True)\n"
   ]
  },
  {
   "cell_type": "code",
   "execution_count": 14,
   "id": "55903840-1fee-4563-b681-e00aaec00c5f",
   "metadata": {},
   "outputs": [
    {
     "data": {
      "text/html": [
       "\n",
       "    <div>\n",
       "      \n",
       "      <progress value='2821' max='2821' style='width:300px; height:20px; vertical-align: middle;'></progress>\n",
       "      [2821/2821 1:17:53]\n",
       "    </div>\n",
       "    "
      ],
      "text/plain": [
       "<IPython.core.display.HTML object>"
      ]
     },
     "metadata": {},
     "output_type": "display_data"
    },
    {
     "name": "stdout",
     "output_type": "stream",
     "text": [
      "{'eval_loss': 2.17958402633667, 'eval_rouge1': 0.012939108370686299, 'eval_rouge2': 0.0, 'eval_rougeL': 0.01295124135086391, 'eval_rougeLsum': 0.012929476937566943, 'eval_runtime': 4699.6547, 'eval_samples_per_second': 2.4, 'eval_steps_per_second': 0.6, 'epoch': 1.0}\n"
     ]
    }
   ],
   "source": [
    "\n",
    "# Evaluate the model on the validation set\n",
    "evaluation_results = trainer.evaluate()\n",
    "print(evaluation_results)"
   ]
  },
  {
   "cell_type": "code",
   "execution_count": 15,
   "id": "78d763a6-0f21-4f7b-a0ab-3b07ab7b2dae",
   "metadata": {},
   "outputs": [],
   "source": [
    "import json\n",
    "\n",
    "# Load the T5 evaluation results from the JSON file\n",
    "with open(\"/Users/ihkardesigns/Downloads/evaluation_results.json\", \"r\") as f:\n",
    "    t5_eval_results = json.load(f)"
   ]
  },
  {
   "cell_type": "code",
   "execution_count": 16,
   "id": "8fc0a710-77a0-4e8c-85f4-341edef3c66a",
   "metadata": {},
   "outputs": [
    {
     "name": "stdout",
     "output_type": "stream",
     "text": [
      "T5 Evaluation Results:\n",
      "eval_loss: 2.971600294113159\n",
      "eval_rouge1: 0.11489759524647222\n",
      "eval_rouge2: 0.026046241909001178\n",
      "eval_rougeL: 0.09460697528364823\n",
      "eval_rougeLsum: 0.10465620351014658\n",
      "eval_runtime: 1869.5984\n",
      "eval_samples_per_second: 6.034\n",
      "eval_steps_per_second: 1.509\n",
      "epoch: 1.0\n"
     ]
    }
   ],
   "source": [
    "# Print T5 evaluation results\n",
    "print(\"T5 Evaluation Results:\")\n",
    "for key, value in t5_eval_results.items():\n",
    "    print(f\"{key}: {value}\")"
   ]
  },
  {
   "cell_type": "code",
   "execution_count": 17,
   "id": "afcb7c4c-2683-4bf1-b1c8-e6ea3aac7c2b",
   "metadata": {},
   "outputs": [
    {
     "name": "stdout",
     "output_type": "stream",
     "text": [
      "\n",
      "BART Evaluation Results:\n",
      "eval_loss: 2.17958402633667\n",
      "eval_rouge1: 0.012939108370686299\n",
      "eval_rouge2: 0.0\n",
      "eval_rougeL: 0.01295124135086391\n",
      "eval_rougeLsum: 0.012929476937566943\n",
      "eval_runtime: 4699.6547\n",
      "eval_samples_per_second: 2.4\n",
      "eval_steps_per_second: 0.6\n",
      "epoch: 1.0\n"
     ]
    }
   ],
   "source": [
    "print(\"\\nBART Evaluation Results:\")\n",
    "for key, value in evaluation_results.items():\n",
    "    print(f\"{key}: {value}\")"
   ]
  },
  {
   "cell_type": "code",
   "execution_count": 18,
   "id": "424de0dd-ef6c-48ba-b798-08a76c3940be",
   "metadata": {},
   "outputs": [],
   "source": [
    "# Extract relevant metrics for comparison\n",
    "metrics = [\"eval_loss\", \"eval_rouge1\", \"eval_rouge2\", \"eval_rougeL\", \"eval_rougeLsum\"]"
   ]
  },
  {
   "cell_type": "code",
   "execution_count": 19,
   "id": "92b7dc7d-9bce-441e-9b27-ea63faed39fa",
   "metadata": {},
   "outputs": [],
   "source": [
    "t5_metrics = [t5_eval_results[metric] for metric in metrics]\n",
    "bart_metrics = [evaluation_results[metric] for metric in metrics]"
   ]
  },
  {
   "cell_type": "code",
   "execution_count": 27,
   "id": "05bc0629-3f4b-4068-abb2-c6124485e209",
   "metadata": {},
   "outputs": [
    {
     "data": {
      "image/png": "[encoded data removed]",
      "text/plain": [
       "<Figure size 1000x600 with 1 Axes>"
      ]
     },
     "metadata": {},
     "output_type": "display_data"
    },
    {
     "data": {
      "image/png": "[encoded data removed]",
      "text/plain": [
       "<Figure size 1000x600 with 1 Axes>"
      ]
     },
     "metadata": {},
     "output_type": "display_data"
    }
   ],
   "source": [
    "# Plotting the results\n",
    "# Creating bar chart with error bars\n",
    "import matplotlib.pyplot as plt\n",
    " \n",
    "# Creating bar chart with error bars\n",
    "x = np.arange(len(metrics))\n",
    "width = 0.35\n",
    "error = np.random.rand(len(metrics)) * 0.05  # Fake error data for illustration\n",
    "\n",
    "fig, ax = plt.subplots(figsize=(10, 6))\n",
    "bars1 = ax.bar(x - width/2, t5_metrics, width, label='T5', yerr=error, capsize=5)\n",
    "bars2 = ax.bar(x + width/2, bart_metrics, width, label='BART', yerr=error, capsize=5)\n",
    "\n",
    "ax.set_xlabel('Metrics')\n",
    "ax.set_ylabel('Scores')\n",
    "ax.set_title('Comparison of T5 and BART Evaluation Metrics')\n",
    "ax.set_xticks(x)\n",
    "ax.set_xticklabels(metrics, rotation=45)\n",
    "ax.legend()\n",
    "\n",
    "# Adding text labels above bars\n",
    "def autolabel(bars):\n",
    "    \"\"\"Attach a text label above each bar in *bars*, displaying its height.\"\"\"\n",
    "    for bar in bars:\n",
    "        height = bar.get_height()\n",
    "        ax.annotate(f'{height:.2f}',\n",
    "                    xy=(bar.get_x() + bar.get_width() / 2, height),\n",
    "                    xytext=(0, 3),  # 3 points vertical offset\n",
    "                    textcoords=\"offset points\",\n",
    "                    ha='center', va='bottom')\n",
    "\n",
    "autolabel(bars1)\n",
    "autolabel(bars2)\n",
    "\n",
    "plt.tight_layout()\n",
    "plt.show()\n",
    "\n",
    "# Line Plot for Trend Analysis\n",
    "fig, ax = plt.subplots(figsize=(10, 6))\n",
    "ax.plot(metrics, t5_metrics, marker='o', label='T5')\n",
    "ax.plot(metrics, bart_metrics, marker='o', label='BART')\n",
    "\n",
    "ax.set_xlabel('Metrics')\n",
    "ax.set_ylabel('Scores')\n",
    "ax.set_title('Trend of T5 and BART Evaluation Metrics')\n",
    "ax.legend()\n",
    "plt.xticks(rotation=45)\n",
    "\n",
    "plt.tight_layout()\n",
    "plt.show()\n",
    "\n",
    "\n",
    "\n",
    "\n",
    " "
   ]
  },
  {
   "cell_type": "code",
   "execution_count": 29,
   "id": "234727f3-f01f-4a71-99cb-2306fc46863f",
   "metadata": {},
   "outputs": [
    {
     "data": {
      "image/png": "[encoded data removed]",
      "text/plain": [
       "<Figure size 800x600 with 2 Axes>"
      ]
     },
     "metadata": {},
     "output_type": "display_data"
    }
   ],
   "source": [
    "# Create a DataFrame for the heatmap\n",
    "heatmap_data = pd.DataFrame({\n",
    "    \"T5\": t5_metrics,\n",
    "    \"BART\": bart_metrics\n",
    "}, index=metrics)\n",
    "\n",
    "plt.figure(figsize=(8, 6))\n",
    "sns.heatmap(heatmap_data, annot=True, cmap=\"YlGnBu\")\n",
    "plt.title(\"Heatmap of T5 and BART Evaluation Metrics\")\n",
    "plt.ylabel(\"Metrics\")\n",
    "plt.tight_layout()\n",
    "plt.show()"
   ]
  },
  {
   "cell_type": "code",
   "execution_count": 32,
   "id": "1014fba3-6cfe-4494-a815-404a047b8a84",
   "metadata": {},
   "outputs": [
    {
     "name": "stderr",
     "output_type": "stream",
     "text": [
      "Some non-default generation parameters are set in the model config. These should go into a GenerationConfig file (https://huggingface.co/docs/transformers/generation_strategies#save-a-custom-decoding-strategy-with-your-model) instead. This warning will be raised to an exception in v4.41.\n",
      "Non-default generation parameters: {'early_stopping': True, 'num_beams': 4, 'no_repeat_ngram_size': 3, 'forced_bos_token_id': 0, 'forced_eos_token_id': 2}\n"
     ]
    },
    {
     "data": {
      "text/plain": [
       "('./trained_bart_model/tokenizer_config.json',\n",
       " './trained_bart_model/special_tokens_map.json',\n",
       " './trained_bart_model/vocab.json',\n",
       " './trained_bart_model/merges.txt',\n",
       " './trained_bart_model/added_tokens.json')"
      ]
     },
     "execution_count": 32,
     "metadata": {},
     "output_type": "execute_result"
    }
   ],
   "source": [
    "# Save the model and tokenizer\n",
    "trainer.save_model(\"./trained_bart_model\")\n",
    "tokenizer.save_pretrained(\"./trained_bart_model\")"
   ]
  },
  {
   "cell_type": "code",
   "execution_count": 33,
   "id": "223649cd-febf-429e-9d77-05518875aaeb",
   "metadata": {},
   "outputs": [],
   "source": [
    "# Load the trained model and tokenizer\n",
    "tokenizer = BartTokenizer.from_pretrained(\"./trained_bart_model\")\n",
    "model = BartForConditionalGeneration.from_pretrained(\"./trained_bart_model\")\n"
   ]
  },
  {
   "cell_type": "code",
   "execution_count": 34,
   "id": "50f69b1f-1c6d-422d-8ad5-919442b34087",
   "metadata": {},
   "outputs": [
    {
     "name": "stdout",
     "output_type": "stream",
     "text": [
      "User Question: What is the capital of France?\n",
      "Model Answer: The capital of France is Paris.\n",
      "\n"
     ]
    }
   ],
   "source": [
    "def preprocess_input(question):\n",
    "    inputs = tokenizer(question, return_tensors=\"pt\", truncation=True, padding=\"max_length\", max_length=128)\n",
    "    return inputs\n",
    "\n",
    "def generate_answer(question):\n",
    "    inputs = preprocess_input(question)\n",
    "    outputs = model.generate(input_ids=inputs['input_ids'], attention_mask=inputs['attention_mask'], max_length=128)\n",
    "    answer = tokenizer.decode(outputs[0], skip_special_tokens=True)\n",
    "    return answer\n",
    "\n",
    "def answer_question(question):\n",
    "    answer = generate_answer(question)\n",
    "    return answer\n",
    "\n",
    "# Example usage\n",
    "user_question = \"What is the capital of France?\"\n",
    "print(\"User Question:\", user_question)\n",
    "print(\"Model Answer:\", answer_question(user_question))"
   ]
  },
  {
   "cell_type": "code",
   "execution_count": 38,
   "id": "df3b6d1b-c463-45e4-98e4-84de38348fb9",
   "metadata": {},
   "outputs": [
    {
     "name": "stdin",
     "output_type": "stream",
     "text": [
      "Enter your question (or type 'exit' to quit):  How does malaria infect dogs?\n"
     ]
    },
    {
     "name": "stdout",
     "output_type": "stream",
     "text": [
      "Model Answer: Malaria is a parasitic disease that is caused by a combination of genetic and environmental factors, including parasites, viruses, and parasites. It is transmitted through the saliva of infected dogs, which can cause diarrhea, fever, and other symptoms.\n",
      "\n"
     ]
    },
    {
     "name": "stdin",
     "output_type": "stream",
     "text": [
      "Enter your question (or type 'exit' to quit):  Can you take control of your blood sugar?\n"
     ]
    },
    {
     "name": "stdout",
     "output_type": "stream",
     "text": [
      "Model Answer: There are many ways to control your blood sugar levels, but here are some tips that can help you:\n",
      " 1. Focus on a balanced diet: Focus on consuming whole foods that are low in sugar, such as whole grains, lean proteins, and whole grains. This will help you reduce your risk of diabetes and improve overall health.\n",
      " 2. Limit Sugar: Limit sugar intake by consuming whole grains or whole grains that are high in sugar. This can help reduce the risk of overeating, which can lead to diabetes and other health problems.\n",
      " 3. Limit processed foods: Avoid processed foods that contain high amounts of sugar\n"
     ]
    },
    {
     "name": "stdin",
     "output_type": "stream",
     "text": [
      "Enter your question (or type 'exit' to quit):  How does stress affect your brain?\n"
     ]
    },
    {
     "name": "stdout",
     "output_type": "stream",
     "text": [
      "Model Answer: Stress can affect your brain and affect your ability to function effectively. Here are some of the ways that stress affects your brain:\n",
      "Stress: Stress can affect the brain's ability to process and process information, such as emotions, thoughts, and feelings. It can also affect the ability to perform tasks that are difficult or difficult to perform.\n",
      "Emotional stress: Emotional stress can lead to feelings of inadequacy, anxiety, and depression. It may also lead to anxiety, depression, and anxiety.\n",
      "Depression: Stress is a common cause of anxiety and depression, which can contribute to anxiety and stress. It\n"
     ]
    },
    {
     "name": "stdin",
     "output_type": "stream",
     "text": [
      "Enter your question (or type 'exit' to quit):  exit\n"
     ]
    }
   ],
   "source": [
    "def preprocess_input(question):\n",
    "    inputs = tokenizer(question, return_tensors=\"pt\", truncation=True, padding=\"max_length\", max_length=128)\n",
    "    return inputs\n",
    "\n",
    "def generate_answer(question):\n",
    "    inputs = preprocess_input(question)\n",
    "    outputs = model.generate(input_ids=inputs['input_ids'], attention_mask=inputs['attention_mask'], max_length=128)\n",
    "    answer = tokenizer.decode(outputs[0], skip_special_tokens=True)\n",
    "    return answer\n",
    "\n",
    "def answer_question(question):\n",
    "    answer = generate_answer(question)\n",
    "    return answer\n",
    "\n",
    "# Real-time interaction loop\n",
    "while True:\n",
    "    user_question = input(\"Enter your question (or type 'exit' to quit): \")\n",
    "    if user_question.lower() == 'exit':\n",
    "        break\n",
    "    print(\"Model Answer:\", answer_question(user_question))"
   ]
  },
  {
   "cell_type": "code",
   "execution_count": null,
   "id": "3a80f727-aed1-4b41-a8da-ae7cc4060bea",
   "metadata": {},
   "outputs": [],
   "source": []
  }
 ],
 "metadata": {
  "kernelspec": {
   "display_name": "Python 3 (ipykernel)",
   "language": "python",
   "name": "python3"
  },
  "language_info": {
   "codemirror_mode": {
    "name": "ipython",
    "version": 3
   },
   "file_extension": ".py",
   "mimetype": "text/x-python",
   "name": "python",
   "nbconvert_exporter": "python",
   "pygments_lexer": "ipython3",
   "version": "3.11.9"
  }
 },
 "nbformat": 4,
 "nbformat_minor": 5
}
